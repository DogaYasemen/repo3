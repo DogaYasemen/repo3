{
 "cells": [
  {
   "cell_type": "code",
   "execution_count": 1,
   "id": "32710d4b-b47c-4d64-ae59-14872a277670",
   "metadata": {},
   "outputs": [
    {
     "name": "stdout",
     "output_type": "stream",
     "text": [
      "Hello\n"
     ]
    }
   ],
   "source": [
    "print (\"Hello\")"
   ]
  },
  {
   "cell_type": "code",
   "execution_count": null,
   "id": "2e2f9ee2-703c-4c1f-a326-fbe981d7ae57",
   "metadata": {},
   "outputs": [],
   "source": [
    "is_a_student = True"
   ]
  },
  {
   "cell_type": "code",
   "execution_count": null,
   "id": "0c8ecb75-56a4-4e77-bcc5-7228751e0013",
   "metadata": {},
   "outputs": [],
   "source": []
  }
 ],
 "metadata": {
  "kernelspec": {
   "display_name": "Python 3 (ipykernel)",
   "language": "python",
   "name": "python3"
  },
  "language_info": {
   "codemirror_mode": {
    "name": "ipython",
    "version": 3
   },
   "file_extension": ".py",
   "mimetype": "text/x-python",
   "name": "python",
   "nbconvert_exporter": "python",
   "pygments_lexer": "ipython3",
   "version": "3.10.12"
  }
 },
 "nbformat": 4,
 "nbformat_minor": 5
}
